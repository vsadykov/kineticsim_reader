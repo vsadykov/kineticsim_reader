{
 "cells": [
  {
   "cell_type": "markdown",
   "id": "fa15e33d",
   "metadata": {},
   "source": [
    "## Description of Notebook\n",
    "\n",
    "The notebook is used to look closer into the power spectra of E_perp"
   ]
  },
  {
   "cell_type": "code",
   "execution_count": 1,
   "id": "f6223e8b",
   "metadata": {},
   "outputs": [],
   "source": [
    "import numpy as np\n",
    "import matplotlib.pyplot as plt\n",
    "import matplotlib\n",
    "import kineticsim_reader as kr\n",
    "import pickle\n",
    "import os\n",
    "import random\n",
    "from scipy.signal import savgol_filter\n",
    "from tqdm import tqdm\n",
    "from matplotlib.animation import FuncAnimation"
   ]
  },
  {
   "cell_type": "code",
   "execution_count": 2,
   "id": "2065a974",
   "metadata": {},
   "outputs": [],
   "source": [
    "simfiles = ['particles.d11_A0.5Hepp_beta0.5eps1e-4_256',\\\n",
    "    'particles.d11_A0.75Hepp_beta1_256',\\\n",
    "    'particles.d11_E11Ap3.3Aa2.0Vd0.42',\\\n",
    "    'particles.d11_E11Ap4.3Aa1.6',\\\n",
    "    'particles.d11_E11Ap4.3Aa1.6Vd0.32',\\\n",
    "    'particles.d11_E12Ap1.86Aa1.0Vd0.32_256_256x256',\\\n",
    "    'particles.d11_E12Ap1.86Aa1.0Vd0.32_512_256x256',\\\n",
    "    'particles.d11_He++A10_256_iden0eps0',\\\n",
    "    'particles.d11_He++v2_256_iden0eps1e-4t600',\\\n",
    "    'particles.d11_He++vd1.5_256_iden0eps1e-4',\\\n",
    "    'particles.d11_pv1.5_128_64_iden0eps1e-4_dx0.75_long',\\\n",
    "    'particles.d11_pv1Ap2Apb2betac0.214betab0.858_128_128x2_dx0.75_t3000',\\\n",
    "    'particles.d11_pv2a_128x3_iden0eps1e-4_dx0.75',\\\n",
    "    'particles.d11_pv2Ap1Ab1betac0.429betab0.858_128_128x2_dx0.75_t3000',\\\n",
    "    'particles.d11_pv2Ap1Ab2betac0.429betab0.858_128_128x2_dx0.75_t3000',\\\n",
    "    'particles.d11_pv2Ap2Apb2betac0.214betab0.858_128_128x2_dx0.75_t3000',\\\n",
    "    'particles.d11_pv2av2.3_128x3_iden0eps1e-4_dx0.75',\\\n",
    "    'particles.d11_pv2av2Ap1Aa1beta0.429_128_128x2_dx0.75_t3000',\\\n",
    "    'particles.d11_pv2av2_rdna0.03375_128x3_iden0eps1e-4_dx0.75_t6000',\\\n",
    "    'particles.d11_vap1.2Ap1Aa0.75_rdna_0.05',\\\n",
    "    'particles.d11_vap1.2Ap3.35Aa2.05rdna_0.007',\\\n",
    "    'particles.d11_vap1.5Ap1.5Aa1rdna_0.007']\n",
    "\n",
    "fldfiles = ['fields.d10_A0.5Hepp_beta0.5eps1e-4_256',\\\n",
    "    'fields.d10_A0.75Hepp_beta1_256',\\\n",
    "    'fields.d10_E11Ap3.3Aa2.0Vd0.42',\\\n",
    "    'fields.d10_E11Ap4.3Aa1.6',\\\n",
    "    'fields.d10_E11Ap4.3Aa1.6Vd0.32',\\\n",
    "    'fields.d10_E12Ap1.86Aa1.0Vd0.32_256_256x256',\\\n",
    "    'fields.d10_E12Ap1.86Aa1.0Vd0.32_512_256x256',\\\n",
    "    'fields.d10_He++A10_256_iden0eps0',\\\n",
    "    'fields.d10_He++v2_256_iden0eps1e-4t600',\\\n",
    "    'fields.d10_He++vd1.5_256_iden0eps1e-4',\\\n",
    "    'fields.d10_pv1.5_128_64_iden0eps1e-4_dx0.75_long',\\\n",
    "    'fields.d10_pv1Ap2Apb2betac0.214betab0.858_128_128x2_dx0.75_t3000',\\\n",
    "    'fields.d10_pv2a_128x3_iden0eps1e-4_dx0.75',\\\n",
    "    'fields.d10_pv2Ap1Ab1betac0.429betab0.858_128_128x2_dx0.75_t3000',\\\n",
    "    'fields.d10_pv2Ap1Ab2betac0.429betab0.858_128_128x2_dx0.75_t3000',\\\n",
    "    'fields.d10_pv2Ap2Apb2betac0.214betab0.858_128_128x2_dx0.75_t3000',\\\n",
    "    'fields.d10_pv2av2.3_128x3_iden0eps1e-4_dx0.75',\\\n",
    "    'fields.d10_pv2av2Ap1Aa1beta0.429_128_128x2_dx0.75_t3000',\\\n",
    "    'fields.d10_pv2av2_rdna0.03375_128x3_iden0eps1e-4_dx0.75_t6000',\\\n",
    "    'fields.d10_vap1.2Ap1Aa0.75_rdna_0.05',\\\n",
    "    'fields.d10_vap1.2Ap3.35Aa2.05rdna_0.007',\\\n",
    "    'fields.d10_vap1.5Ap1.5Aa1rdna_0.007']"
   ]
  },
  {
   "cell_type": "code",
   "execution_count": 26,
   "id": "2548bf50",
   "metadata": {
    "scrolled": false
   },
   "outputs": [
    {
     "ename": "TypeError",
     "evalue": "imshow() missing 1 required positional argument: 'X'",
     "output_type": "error",
     "traceback": [
      "\u001b[1;31m---------------------------------------------------------------------------\u001b[0m",
      "\u001b[1;31mTypeError\u001b[0m                                 Traceback (most recent call last)",
      "\u001b[1;32m~\\AppData\\Local\\Temp/ipykernel_8116/2604621897.py\u001b[0m in \u001b[0;36m<module>\u001b[1;34m\u001b[0m\n\u001b[0;32m      7\u001b[0m \u001b[1;33m\u001b[0m\u001b[0m\n\u001b[0;32m      8\u001b[0m     \u001b[0mim\u001b[0m\u001b[1;33m,\u001b[0m \u001b[0max\u001b[0m \u001b[1;33m=\u001b[0m \u001b[0mplt\u001b[0m\u001b[1;33m.\u001b[0m\u001b[0msubplots\u001b[0m\u001b[1;33m(\u001b[0m\u001b[1;36m1\u001b[0m\u001b[1;33m,\u001b[0m \u001b[1;36m1\u001b[0m\u001b[1;33m,\u001b[0m \u001b[0mfigsize\u001b[0m\u001b[1;33m=\u001b[0m\u001b[1;33m(\u001b[0m\u001b[1;36m8\u001b[0m\u001b[1;33m,\u001b[0m\u001b[1;36m3\u001b[0m\u001b[1;33m)\u001b[0m\u001b[1;33m,\u001b[0m \u001b[0mdpi\u001b[0m\u001b[1;33m=\u001b[0m\u001b[1;36m120\u001b[0m\u001b[1;33m)\u001b[0m\u001b[1;33m\u001b[0m\u001b[1;33m\u001b[0m\u001b[0m\n\u001b[1;32m----> 9\u001b[1;33m     fig = ax.imshow(origin='lower', extent=[timing[0], timing[-1], freqs[0], freqs[-1]], \n\u001b[0m\u001b[0;32m     10\u001b[0m                   aspect='auto', cmap='jet')\n\u001b[0;32m     11\u001b[0m     ax.set(xlabel=r'Time, $\\Omega{}_{p}^{-1}$', ylabel=r'Frequency, $f_{p}$', \\\n",
      "\u001b[1;32m~\\anaconda3\\lib\\site-packages\\matplotlib\\__init__.py\u001b[0m in \u001b[0;36minner\u001b[1;34m(ax, data, *args, **kwargs)\u001b[0m\n\u001b[0;32m   1445\u001b[0m     \u001b[1;32mdef\u001b[0m \u001b[0minner\u001b[0m\u001b[1;33m(\u001b[0m\u001b[0max\u001b[0m\u001b[1;33m,\u001b[0m \u001b[1;33m*\u001b[0m\u001b[0margs\u001b[0m\u001b[1;33m,\u001b[0m \u001b[0mdata\u001b[0m\u001b[1;33m=\u001b[0m\u001b[1;32mNone\u001b[0m\u001b[1;33m,\u001b[0m \u001b[1;33m**\u001b[0m\u001b[0mkwargs\u001b[0m\u001b[1;33m)\u001b[0m\u001b[1;33m:\u001b[0m\u001b[1;33m\u001b[0m\u001b[1;33m\u001b[0m\u001b[0m\n\u001b[0;32m   1446\u001b[0m         \u001b[1;32mif\u001b[0m \u001b[0mdata\u001b[0m \u001b[1;32mis\u001b[0m \u001b[1;32mNone\u001b[0m\u001b[1;33m:\u001b[0m\u001b[1;33m\u001b[0m\u001b[1;33m\u001b[0m\u001b[0m\n\u001b[1;32m-> 1447\u001b[1;33m             \u001b[1;32mreturn\u001b[0m \u001b[0mfunc\u001b[0m\u001b[1;33m(\u001b[0m\u001b[0max\u001b[0m\u001b[1;33m,\u001b[0m \u001b[1;33m*\u001b[0m\u001b[0mmap\u001b[0m\u001b[1;33m(\u001b[0m\u001b[0msanitize_sequence\u001b[0m\u001b[1;33m,\u001b[0m \u001b[0margs\u001b[0m\u001b[1;33m)\u001b[0m\u001b[1;33m,\u001b[0m \u001b[1;33m**\u001b[0m\u001b[0mkwargs\u001b[0m\u001b[1;33m)\u001b[0m\u001b[1;33m\u001b[0m\u001b[1;33m\u001b[0m\u001b[0m\n\u001b[0m\u001b[0;32m   1448\u001b[0m \u001b[1;33m\u001b[0m\u001b[0m\n\u001b[0;32m   1449\u001b[0m         \u001b[0mbound\u001b[0m \u001b[1;33m=\u001b[0m \u001b[0mnew_sig\u001b[0m\u001b[1;33m.\u001b[0m\u001b[0mbind\u001b[0m\u001b[1;33m(\u001b[0m\u001b[0max\u001b[0m\u001b[1;33m,\u001b[0m \u001b[1;33m*\u001b[0m\u001b[0margs\u001b[0m\u001b[1;33m,\u001b[0m \u001b[1;33m**\u001b[0m\u001b[0mkwargs\u001b[0m\u001b[1;33m)\u001b[0m\u001b[1;33m\u001b[0m\u001b[1;33m\u001b[0m\u001b[0m\n",
      "\u001b[1;31mTypeError\u001b[0m: imshow() missing 1 required positional argument: 'X'"
     ]
    },
    {
     "data": {
      "image/png": "[encoded data removed]",
      "text/plain": [
       "<Figure size 960x360 with 1 Axes>"
      ]
     },
     "metadata": {
      "needs_background": "light"
     },
     "output_type": "display_data"
    }
   ],
   "source": [
    "for fldfile in fldfiles:\n",
    "    spectrum = np.load('./processing_results/' + fldfile + '.ps_ps.npy')[11:,:]\n",
    "    for t in range (0, spectrum.shape[1], 1):\n",
    "        spectrum[:,t] /= np.amax(spectrum[:,t])\n",
    "    timing = np.load('./processing_results/' + fldfile + '.ps_inttiming.npy')\n",
    "    freqs = np.load('./processing_results/' + fldfile + '.ps_freqs.npy')[11:]*2.0*3.1415926\n",
    "    \n",
    "    im, ax = plt.subplots(1, 1, figsize=(8,3), dpi=120)\n",
    "    fig = ax.imshow(spectrum, origin='lower', extent=[timing[0], timing[-1], freqs[0], freqs[-1]], \n",
    "                  aspect='auto', cmap='jet')\n",
    "    ax.set(xlabel=r'Time, $\\Omega{}_{p}^{-1}$', ylabel=r'Frequency, $f_{p}$', \\\n",
    "           title=fldfile[7:])\n",
    "    \n",
    "    cbar = im.colorbar(fig, ax=ax, label=r'Normalized power of E$_{\\perp}$')\n",
    "    plt.tight_layout()\n",
    "    plt.show()\n",
    "    plt.close()"
   ]
  },
  {
   "cell_type": "code",
   "execution_count": null,
   "id": "1d625f5b",
   "metadata": {},
   "outputs": [],
   "source": []
  }
 ],
 "metadata": {
  "kernelspec": {
   "display_name": "Python 3",
   "language": "python",
   "name": "python3"
  },
  "language_info": {
   "codemirror_mode": {
    "name": "ipython",
    "version": 3
   },
   "file_extension": ".py",
   "mimetype": "text/x-python",
   "name": "python",
   "nbconvert_exporter": "python",
   "pygments_lexer": "ipython3",
   "version": "3.8.8"
  }
 },
 "nbformat": 4,
 "nbformat_minor": 5
}
