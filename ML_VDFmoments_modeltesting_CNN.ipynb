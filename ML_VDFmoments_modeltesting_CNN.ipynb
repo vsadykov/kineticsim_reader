{
  "nbformat": 4,
  "nbformat_minor": 0,
  "metadata": {
    "colab": {
      "provenance": [],
      "toc_visible": true,
      "authorship_tag": "ABX9TyOktglIvaGpeWDx2erIpcc7",
      "include_colab_link": true
    },
    "kernelspec": {
      "name": "python3",
      "display_name": "Python 3"
    },
    "language_info": {
      "name": "python"
    }
  },
  "cells": [
    {
      "cell_type": "markdown",
      "metadata": {
        "id": "view-in-github",
        "colab_type": "text"
      },
      "source": [
        "<a href=\"https://colab.research.google.com/github/vsadykov/kineticsim_reader/blob/main/ML_VDFmoments_modeltesting_CNN.ipynb\" target=\"_parent\"><img src=\"https://colab.research.google.com/assets/colab-badge.svg\" alt=\"Open In Colab\"/></a>"
      ]
    },
    {
      "cell_type": "markdown",
      "source": [
        "# Importing modules and dependences"
      ],
      "metadata": {
        "id": "_V2byajQJtsX"
      }
    },
    {
      "cell_type": "code",
      "execution_count": null,
      "metadata": {
        "id": "c_OFFLc2IpG4"
      },
      "outputs": [],
      "source": [
        "import numpy as np\n",
        "import matplotlib\n",
        "import matplotlib.pyplot as plt\n",
        "import torch\n",
        "from torch import nn\n",
        "import torch.nn.functional as F\n",
        "import torchvision\n",
        "import torch.optim as optim\n",
        "from tqdm import tqdm"
      ]
    },
    {
      "cell_type": "markdown",
      "source": [
        "# Development of the CNN prototype"
      ],
      "metadata": {
        "id": "zMrJcGUFJ4j-"
      }
    },
    {
      "cell_type": "code",
      "source": [
        "class VDFCNN(nn.Module):\n",
        "  def __init__(self):\n",
        "    super(VDFCNN, self).__init__()\n",
        "    self.cnncell = nn.Sequential(\n",
        "        nn.Conv2d(1, 2, kernel_size=3, padding=1),\n",
        "        nn.ReLU(True),\n",
        "        nn.MaxPool2d(kernel_size=2, stride=2),\n",
        "        nn.Conv2d(2, 4, kernel_size=3, padding=1),\n",
        "        nn.ReLU(True),\n",
        "        nn.MaxPool2d(kernel_size=2, stride=2),\n",
        "        nn.Conv2d(4, 4, kernel_size=3, padding=1),\n",
        "        nn.ReLU(True),\n",
        "        nn.MaxPool2d(kernel_size=2, stride=2),\n",
        "    )\n",
        "    self.linearcell = nn.Sequential(\n",
        "        nn.Linear(4*5*5, 10),\n",
        "        nn.ReLU(True),\n",
        "        nn.Linear(10,2),\n",
        "        nn.ReLU(True)\n",
        "    )\n",
        "  def forward(self, x):\n",
        "    x = self.cnncell(x)\n",
        "    x = x.view(-1, 4 * 5 * 5)\n",
        "    x = self.linearcell(x)\n",
        "    return x"
      ],
      "metadata": {
        "id": "uwIKulYCJ_2F"
      },
      "execution_count": null,
      "outputs": []
    }
  ]
}