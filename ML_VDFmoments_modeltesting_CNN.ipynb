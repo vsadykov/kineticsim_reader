{
  "nbformat": 4,
  "nbformat_minor": 0,
  "metadata": {
    "colab": {
      "provenance": [],
      "authorship_tag": "ABX9TyODZ4tSRiDmqZCovo/S+7nr",
      "include_colab_link": true
    },
    "kernelspec": {
      "name": "python3",
      "display_name": "Python 3"
    },
    "language_info": {
      "name": "python"
    }
  },
  "cells": [
    {
      "cell_type": "markdown",
      "metadata": {
        "id": "view-in-github",
        "colab_type": "text"
      },
      "source": [
        "<a href=\"https://colab.research.google.com/github/vsadykov/kineticsim_reader/blob/main/ML_VDFmoments_modeltesting_CNN.ipynb\" target=\"_parent\"><img src=\"https://colab.research.google.com/assets/colab-badge.svg\" alt=\"Open In Colab\"/></a>"
      ]
    },
    {
      "cell_type": "markdown",
      "source": [
        "# Importing modules and dependences"
      ],
      "metadata": {
        "id": "_V2byajQJtsX"
      }
    },
    {
      "cell_type": "code",
      "execution_count": 13,
      "metadata": {
        "id": "c_OFFLc2IpG4"
      },
      "outputs": [],
      "source": [
        "import numpy as np\n",
        "import matplotlib\n",
        "import matplotlib.pyplot as plt\n",
        "import torch\n",
        "from torch import nn\n",
        "import torch.nn.functional as F\n",
        "import torchvision\n",
        "import torch.optim as optim\n",
        "from tqdm import tqdm\n",
        "from sklearn.model_selection import train_test_split"
      ]
    },
    {
      "cell_type": "markdown",
      "source": [
        "# Preparing the data set"
      ],
      "metadata": {
        "id": "b9nH2JfFI1q4"
      }
    },
    {
      "cell_type": "code",
      "source": [
        "featurevector_allvdfs_all = np.load('allsimulations.mldata_vdfs.npy')\n",
        "labels_allvdfs_all = np.load('allsimulations.mldata_labels.npy')\n",
        "timep_array_all = np.load('allsimulations.mldata_timep.npy')"
      ],
      "metadata": {
        "id": "MgTnyb98I6jP"
      },
      "execution_count": 14,
      "outputs": []
    },
    {
      "cell_type": "markdown",
      "source": [
        "Log normalization of the VDFs"
      ],
      "metadata": {
        "id": "1MD3DfO_QY_y"
      }
    },
    {
      "cell_type": "code",
      "source": [
        "featurevector_allvdfs_all = np.log10(featurevector_allvdfs_all + 1)\n",
        "for t in range (0, featurevector_allvdfs_all.shape[0], 1):\n",
        "  featurevector_allvdfs_all[t,0,:,:] /= np.amax(featurevector_allvdfs_all[t,0,:,:])\n",
        "  featurevector_allvdfs_all[t,1,:,:] /= np.amax(featurevector_allvdfs_all[t,1,:,:])"
      ],
      "metadata": {
        "id": "OikCDByDJWE4"
      },
      "execution_count": 15,
      "outputs": []
    },
    {
      "cell_type": "code",
      "source": [
        "X_train, X_test, f_train, f_test = train_test_split(featurevector_allvdfs_all, labels_allvdfs_all, \\\n",
        "                                                    test_size=0.33, random_state=1)"
      ],
      "metadata": {
        "id": "eadiAt3ZQAoe"
      },
      "execution_count": 16,
      "outputs": []
    },
    {
      "cell_type": "code",
      "source": [
        "print(\"Shapes of the data sets:\")\n",
        "print(X_train.shape, f_train.shape)\n",
        "print(X_test.shape, f_test.shape)"
      ],
      "metadata": {
        "id": "iHGHax-jRVt0",
        "outputId": "babbacb7-d62f-451a-f86e-00e754c61163",
        "colab": {
          "base_uri": "https://localhost:8080/"
        }
      },
      "execution_count": 17,
      "outputs": [
        {
          "output_type": "stream",
          "name": "stdout",
          "text": [
            "Shapes of the data sets:\n",
            "(667, 2, 40, 40) (667,)\n",
            "(330, 2, 40, 40) (330,)\n"
          ]
        }
      ]
    },
    {
      "cell_type": "markdown",
      "source": [
        "# Development and training of the CNN prototype"
      ],
      "metadata": {
        "id": "zMrJcGUFJ4j-"
      }
    },
    {
      "cell_type": "code",
      "source": [
        "class VDFCNN(nn.Module):\n",
        "  def __init__(self):\n",
        "    super(VDFCNN, self).__init__()\n",
        "    self.cnncell = nn.Sequential(\n",
        "        nn.Conv2d(1, 2, kernel_size=3, padding=1),\n",
        "        nn.ReLU(True),\n",
        "        nn.MaxPool2d(kernel_size=2, stride=2),\n",
        "        nn.Conv2d(2, 4, kernel_size=3, padding=1),\n",
        "        nn.ReLU(True),\n",
        "        nn.MaxPool2d(kernel_size=2, stride=2),\n",
        "        nn.Conv2d(4, 4, kernel_size=3, padding=1),\n",
        "        nn.ReLU(True),\n",
        "        nn.MaxPool2d(kernel_size=2, stride=2),\n",
        "    )\n",
        "    self.linearcell = nn.Sequential(\n",
        "        nn.Linear(4*5*5, 10),\n",
        "        nn.ReLU(True),\n",
        "        nn.Linear(10,2),\n",
        "        nn.ReLU(True)\n",
        "    )\n",
        "  def forward(self, x):\n",
        "    x = self.cnncell(x)\n",
        "    x = x.view(-1, 4 * 5 * 5)\n",
        "    x = self.linearcell(x)\n",
        "    return x"
      ],
      "metadata": {
        "id": "uwIKulYCJ_2F"
      },
      "execution_count": 18,
      "outputs": []
    },
    {
      "cell_type": "code",
      "source": [],
      "metadata": {
        "id": "MltXGX7HRtDb"
      },
      "execution_count": null,
      "outputs": []
    }
  ]
}