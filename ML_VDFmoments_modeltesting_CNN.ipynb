{
  "nbformat": 4,
  "nbformat_minor": 0,
  "metadata": {
    "colab": {
      "provenance": [],
      "gpuType": "T4",
      "authorship_tag": "ABX9TyNfBNZy54FZ2ViqFZM080xs",
      "include_colab_link": true
    },
    "kernelspec": {
      "name": "python3",
      "display_name": "Python 3"
    },
    "language_info": {
      "name": "python"
    },
    "accelerator": "GPU"
  },
  "cells": [
    {
      "cell_type": "markdown",
      "metadata": {
        "id": "view-in-github",
        "colab_type": "text"
      },
      "source": [
        "<a href=\"https://colab.research.google.com/github/vsadykov/kineticsim_reader/blob/main/ML_VDFmoments_modeltesting_CNN.ipynb\" target=\"_parent\"><img src=\"https://colab.research.google.com/assets/colab-badge.svg\" alt=\"Open In Colab\"/></a>"
      ]
    },
    {
      "cell_type": "markdown",
      "source": [
        "# Importing modules and dependences"
      ],
      "metadata": {
        "id": "_V2byajQJtsX"
      }
    },
    {
      "cell_type": "code",
      "execution_count": 33,
      "metadata": {
        "id": "c_OFFLc2IpG4"
      },
      "outputs": [],
      "source": [
        "import numpy as np\n",
        "import matplotlib\n",
        "import matplotlib.pyplot as plt\n",
        "import torch\n",
        "from torch import nn\n",
        "import torch.nn.functional as F\n",
        "import torchvision\n",
        "import torch.optim as optim\n",
        "from tqdm import tqdm\n",
        "from sklearn.model_selection import train_test_split\n",
        "from sklearn.metrics import confusion_matrix"
      ]
    },
    {
      "cell_type": "markdown",
      "source": [
        "# Preparing the data set"
      ],
      "metadata": {
        "id": "b9nH2JfFI1q4"
      }
    },
    {
      "cell_type": "code",
      "source": [
        "featurevector_allvdfs_all = np.load('allsimulations.mldata_vdfs.npy')\n",
        "labels_allvdfs_all = np.load('allsimulations.mldata_labels.npy')\n",
        "timep_array_all = np.load('allsimulations.mldata_timep.npy')"
      ],
      "metadata": {
        "id": "MgTnyb98I6jP"
      },
      "execution_count": 4,
      "outputs": []
    },
    {
      "cell_type": "markdown",
      "source": [
        "Log normalization of the VDFs"
      ],
      "metadata": {
        "id": "1MD3DfO_QY_y"
      }
    },
    {
      "cell_type": "code",
      "source": [
        "featurevector_allvdfs_all = np.log10(featurevector_allvdfs_all + 1)\n",
        "for t in range (0, featurevector_allvdfs_all.shape[0], 1):\n",
        "  featurevector_allvdfs_all[t,0,:,:] /= np.amax(featurevector_allvdfs_all[t,0,:,:])\n",
        "  featurevector_allvdfs_all[t,1,:,:] /= np.amax(featurevector_allvdfs_all[t,1,:,:])"
      ],
      "metadata": {
        "id": "OikCDByDJWE4"
      },
      "execution_count": 5,
      "outputs": []
    },
    {
      "cell_type": "code",
      "source": [
        "X_train, X_test, f_train, f_test = train_test_split(featurevector_allvdfs_all, labels_allvdfs_all, \\\n",
        "                                                    test_size=0.33, random_state=1)"
      ],
      "metadata": {
        "id": "eadiAt3ZQAoe"
      },
      "execution_count": 6,
      "outputs": []
    },
    {
      "cell_type": "code",
      "source": [
        "print(\"Shapes of the data sets:\")\n",
        "print(X_train.shape, f_train.shape)\n",
        "print(X_test.shape, f_test.shape)"
      ],
      "metadata": {
        "id": "iHGHax-jRVt0",
        "outputId": "87dcfd3e-b5fe-469e-9d40-3da594c50882",
        "colab": {
          "base_uri": "https://localhost:8080/"
        }
      },
      "execution_count": 7,
      "outputs": [
        {
          "output_type": "stream",
          "name": "stdout",
          "text": [
            "Shapes of the data sets:\n",
            "(667, 2, 40, 40) (667,)\n",
            "(330, 2, 40, 40) (330,)\n"
          ]
        }
      ]
    },
    {
      "cell_type": "code",
      "source": [
        "random_indices = np.random.choice(X_train.shape[0], size=128, replace=False)\n",
        "X_select = X_train[random_indices]\n",
        "print(X_select.shape)"
      ],
      "metadata": {
        "id": "JShk7wq4xDLP",
        "outputId": "68b7e103-f559-4c9e-d674-8633577e59bc",
        "colab": {
          "base_uri": "https://localhost:8080/"
        }
      },
      "execution_count": 8,
      "outputs": [
        {
          "output_type": "stream",
          "name": "stdout",
          "text": [
            "(128, 2, 40, 40)\n"
          ]
        }
      ]
    },
    {
      "cell_type": "markdown",
      "source": [
        "# Development and training of the CNN prototype (with no early stopping first)"
      ],
      "metadata": {
        "id": "zMrJcGUFJ4j-"
      }
    },
    {
      "cell_type": "code",
      "source": [
        "class VDFCNN(nn.Module):\n",
        "  def __init__(self):\n",
        "    super(VDFCNN, self).__init__()\n",
        "    self.cnncell = nn.Sequential(\n",
        "        nn.Conv2d(2, 4, kernel_size=3, padding=1),\n",
        "        nn.ReLU(True),\n",
        "        nn.MaxPool2d(kernel_size=2, stride=2),\n",
        "        nn.Conv2d(4, 8, kernel_size=3, padding=1),\n",
        "        nn.ReLU(True),\n",
        "        nn.MaxPool2d(kernel_size=2, stride=2),\n",
        "        nn.Conv2d(8, 8, kernel_size=3, padding=1),\n",
        "        nn.ReLU(True),\n",
        "        nn.MaxPool2d(kernel_size=2, stride=2),\n",
        "    )\n",
        "    self.linearcell = nn.Sequential(\n",
        "        nn.Linear(8*5*5, 10),\n",
        "        nn.ReLU(True),\n",
        "        nn.Linear(10,2),\n",
        "        nn.Sigmoid()\n",
        "    )\n",
        "  def forward(self, x):\n",
        "    x = self.cnncell(x)\n",
        "    x = x.view(-1, 8 * 5 * 5)\n",
        "    x = self.linearcell(x)\n",
        "    return x"
      ],
      "metadata": {
        "id": "uwIKulYCJ_2F"
      },
      "execution_count": 23,
      "outputs": []
    },
    {
      "cell_type": "code",
      "source": [
        "device = torch.device(\"cuda:0\")\n",
        "net = VDFCNN().to(device)\n",
        "optimizer = optim.Adam(net.parameters(), lr=0.00025)\n",
        "\n",
        "loss_history_train = []\n",
        "loss_history_test = []\n",
        "\n",
        "outputs_history_train = []\n",
        "outputs_labels_train = []\n",
        "outputs_history_test = []\n",
        "outputs_labels_test = []\n",
        "\n",
        "n_epochs = 500\n",
        "n_iterations = 6 # based on the total size / batch size, approximately\n",
        "\n",
        "# test data tensors\n",
        "testdata_tensor = torch.tensor(X_test).float().to(device=device)\n",
        "testlabels_tensor = torch.tensor(f_test).long().to(device=device)\n",
        "\n",
        "for ep in tqdm(range(n_epochs)):\n",
        "  for n_iter in range (n_iterations):\n",
        "    train_indexes = np.random.choice(X_train.shape[0], size=128, replace=False)\n",
        "    traindata_tensor = torch.tensor(X_train[random_indices]).float().to(device=device)\n",
        "    trainlabels_tensor = torch.tensor(f_train[random_indices]).long().to(device=device)\n",
        "    outputs = net(traindata_tensor)\n",
        "    criteria = nn.CrossEntropyLoss()\n",
        "    loss = criteria(outputs, trainlabels_tensor)\n",
        "    optimizer.zero_grad()\n",
        "    loss.backward()\n",
        "    optimizer.step()\n",
        "    loss_history_train.append(loss.item())\n",
        "    outputs_history_train.append(outputs.detach())\n",
        "    outputs_labels_train.append(f_train[random_indices])\n",
        "    outputs = net(testdata_tensor)\n",
        "    criteria = nn.CrossEntropyLoss()\n",
        "    loss = criteria(outputs, testlabels_tensor)\n",
        "    loss_history_test.append(loss.item())\n",
        "    outputs_history_test.append(outputs.detach())\n",
        "    outputs_labels_test.append(f_test)"
      ],
      "metadata": {
        "id": "M1WmOi78yNxu",
        "outputId": "b571db9b-b4ee-46cd-c615-b15a032e05ba",
        "colab": {
          "base_uri": "https://localhost:8080/"
        }
      },
      "execution_count": 24,
      "outputs": [
        {
          "output_type": "stream",
          "name": "stderr",
          "text": [
            "100%|██████████| 500/500 [00:17<00:00, 28.60it/s]\n"
          ]
        }
      ]
    },
    {
      "cell_type": "code",
      "source": [
        "matplotlib.rcParams.update({'font.size': 15})\n",
        "im, ax = plt.subplots(1, 1, figsize=(6,4), dpi=120)\n",
        "ax.plot(np.arange(n_epochs*n_iterations)/n_iterations, loss_history_train, color='black', label='Train score')\n",
        "ax.plot(np.arange(n_epochs*n_iterations)/n_iterations, loss_history_test, color='red', label='Test score')\n",
        "ax.set(xlabel='Epoch', ylabel='Cross-Entropy Loss')\n",
        "ax.legend()\n",
        "plt.show()"
      ],
      "metadata": {
        "id": "MltXGX7HRtDb",
        "outputId": "38aef165-9180-4e2d-a3a3-660984fda75c",
        "colab": {
          "base_uri": "https://localhost:8080/",
          "height": 476
        }
      },
      "execution_count": 25,
      "outputs": [
        {
          "output_type": "display_data",
          "data": {
            "text/plain": [
              "<Figure size 720x480 with 1 Axes>"
            ],
            "image/png": "[encoded data removed]"
          },
          "metadata": {}
        }
      ]
    },
    {
      "cell_type": "code",
      "source": [
        "def outputclass_analysis(test_labels, predicted_labels, output_score=''):\n",
        "    tn, fp, fn, tp = confusion_matrix(test_labels, predicted_labels).ravel()\n",
        "    print(\"------------ SUMMARY OF CLASSIFICATION RESULTS ----------------\")\n",
        "    print(\"TP = \"+str(tp))\n",
        "    print(\"TN = \"+str(tn))\n",
        "    print(\"FP = \"+str(fp))\n",
        "    print(\"FN = \"+str(fn))\n",
        "    precision = tp/(tp+fp)\n",
        "    recall = tp/(tp+fn)\n",
        "    acc = (tp+tn)/(tp+fn+fp+tn)\n",
        "    tss = tp/(tp+fn) - fp/(fp+tn)\n",
        "    hss = 2*(tp*tn - fp*fn)/((tp+fn)*(fn+tn) + (tp+fp)*(fp+tn))\n",
        "    print(\"Precision = \"+str(precision))\n",
        "    print(\"Recall = \"+str(recall))\n",
        "    print(\"Accuracy = \"+str(acc))\n",
        "    print(\"TSS = \"+str(tss))\n",
        "    print(\"HSS = \"+str(hss))\n",
        "    if (output_score == 'TSS'): return tss\n",
        "    if (output_score == 'HSS'): return hss\n",
        "    if (output_score == 'precision'): return precision\n",
        "    if (output_score == 'accuracy'): return acc\n",
        "    return"
      ],
      "metadata": {
        "id": "BaNV-IMa7d6I"
      },
      "execution_count": 31,
      "outputs": []
    },
    {
      "cell_type": "code",
      "source": [
        "optim_index = np.argmin(np.array(loss_history_test))\n",
        "print(\"Optimal epoch count for the current training:\", optim_index//n_iterations)\n",
        "\n",
        "outputs_optim = outputs_history_test[optim_index]\n",
        "labels_optim = np.argmax(outputs_optim.cpu(), axis=1)\n",
        "\n",
        "outputclass_analysis(f_test, labels_optim)"
      ],
      "metadata": {
        "id": "8AqxzHuP4uGI",
        "outputId": "579df761-3b0f-438d-9937-a5ad3416d48d",
        "colab": {
          "base_uri": "https://localhost:8080/"
        }
      },
      "execution_count": 37,
      "outputs": [
        {
          "output_type": "stream",
          "name": "stdout",
          "text": [
            "Optimal epoch count for the current training: 222\n",
            "------------ SUMMARY OF CLASSIFICATION RESULTS ----------------\n",
            "TP = 103\n",
            "TN = 184\n",
            "FP = 19\n",
            "FN = 24\n",
            "Precision = 0.8442622950819673\n",
            "Recall = 0.8110236220472441\n",
            "Accuracy = 0.8696969696969697\n",
            "TSS = 0.7174275629339436\n",
            "HSS = 0.7227540932359032\n"
          ]
        }
      ]
    }
  ]
}