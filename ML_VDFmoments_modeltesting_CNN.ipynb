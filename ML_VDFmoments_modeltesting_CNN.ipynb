{
  "nbformat": 4,
  "nbformat_minor": 0,
  "metadata": {
    "colab": {
      "provenance": [],
      "toc_visible": true,
      "authorship_tag": "ABX9TyOr45/OvVZZQIFmpKPikWsm",
      "include_colab_link": true
    },
    "kernelspec": {
      "name": "python3",
      "display_name": "Python 3"
    },
    "language_info": {
      "name": "python"
    }
  },
  "cells": [
    {
      "cell_type": "markdown",
      "metadata": {
        "id": "view-in-github",
        "colab_type": "text"
      },
      "source": [
        "<a href=\"https://colab.research.google.com/github/vsadykov/kineticsim_reader/blob/main/ML_VDFmoments_modeltesting_CNN.ipynb\" target=\"_parent\"><img src=\"https://colab.research.google.com/assets/colab-badge.svg\" alt=\"Open In Colab\"/></a>"
      ]
    },
    {
      "cell_type": "markdown",
      "source": [
        "# Importing modules and dependences"
      ],
      "metadata": {
        "id": "_V2byajQJtsX"
      }
    },
    {
      "cell_type": "code",
      "execution_count": 1,
      "metadata": {
        "id": "c_OFFLc2IpG4"
      },
      "outputs": [],
      "source": [
        "import numpy as np\n",
        "import matplotlib\n",
        "import matplotlib.pyplot as plt\n",
        "import torch\n",
        "from torch import nn\n",
        "import torch.nn.functional as F\n",
        "import torchvision\n",
        "import torch.optim as optim\n",
        "from tqdm import tqdm"
      ]
    },
    {
      "cell_type": "markdown",
      "source": [
        "# Development of the CNN prototype"
      ],
      "metadata": {
        "id": "zMrJcGUFJ4j-"
      }
    },
    {
      "cell_type": "code",
      "source": [
        "class VDFCNN(nn.Module):\n",
        "  def __init__(self):\n",
        "    super(VDFCNN, self).__init__()\n",
        "    self.cnncell = nn.Sequential(\n",
        "        nn.Conv2d(1, 2, kernel_size=3, padding=1),\n",
        "        nn.ReLU(True),\n",
        "        nn.MaxPool2d(kernel_size=2, stride=2),\n",
        "        nn.Conv2d(2, 4, kernel_size=3, padding=1),\n",
        "        nn.ReLU(True),\n",
        "        nn.MaxPool2d(kernel_size=2, stride=2),\n",
        "        nn.Conv2d(4, 4, kernel_size=3, padding=1),\n",
        "        nn.ReLU(True),\n",
        "        nn.MaxPool2d(kernel_size=2, stride=2),\n",
        "    )\n",
        "    self.linearcell = nn.Sequential(\n",
        "        nn.Linear()\n",
        "    )\n",
        "\n",
        "\n",
        "        self.enc = nn.Sequential(\n",
        "            nn.Linear(110, 64),\n",
        "            nn.ReLU(True),\n",
        "            nn.Linear(64, 32),\n",
        "            nn.ReLU(True),\n",
        "            nn.Linear(32, 16),\n",
        "            nn.ReLU(True),\n",
        "            nn.Linear(16, embeddim),\n",
        "        )\n",
        "        self.dec = nn.Sequential(\n",
        "            nn.Linear(embeddim, 16),\n",
        "            nn.ReLU(True),\n",
        "            nn.Linear(16, 32),\n",
        "            nn.ReLU(True),\n",
        "            nn.Linear(32, 64),\n",
        "            nn.ReLU(True),\n",
        "            nn.Linear(64, 110),\n",
        "        )\n",
        "    def encode(self, x):\n",
        "        return self.enc(x)\n",
        "    def decode(self, x):\n",
        "        return self.dec(x)\n",
        "    def forward(self, x):\n",
        "        x = self.encode(x)\n",
        "        x = self.decode(x)\n",
        "        return x\n",
        "\n",
        "# prompt: generate a convolutional neural network for classification purposes which has an input of 40x40\n",
        "\n",
        "class CNN(nn.Module):\n",
        "    def __init__(self):\n",
        "        super(CNN, self).__init__()\n",
        "        self.conv1 = nn.Conv2d(1, 32, kernel_size=3)\n",
        "        self.pool = nn.AvgPool2d(kernel_size=2)\n",
        "        self.conv2 = nn.Conv2d(32, 64, kernel_size=3)\n",
        "        self.fc1 = nn.Linear(64 * 10 * 10, 128)\n",
        "        self.fc2 = nn.Linear(128, 10)\n",
        "\n",
        "    def forward(self, x):\n",
        "        x = self.pool(F.relu(self.conv1(x)))\n",
        "        x = self.pool(F.relu(self.conv2(x)))\n",
        "        x = x.view(-1, 64 * 10 * 10)\n",
        "        x = F.relu(self.fc1(x))\n",
        "        x = self.fc2(x)\n",
        "        return x\n"
      ],
      "metadata": {
        "id": "uwIKulYCJ_2F"
      },
      "execution_count": null,
      "outputs": []
    }
  ]
}